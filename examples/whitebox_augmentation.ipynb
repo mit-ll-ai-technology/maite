{
 "cells": [
  {
   "cell_type": "markdown",
   "id": "3f82eec3",
   "metadata": {
    "lines_to_next_cell": 0
   },
   "source": [
    "## Whitebox augmentation demo\n",
    "\n",
    "We use a MAITE image-classification `Augmentation` to represent a simple\n",
    "adversarial attack on model input data. Because the attack depends on\n",
    "gradient information that is not guaranteed to be available for MAITE\n",
    "`Model` objects, we must get the information in an application-specific\n",
    "way. In this case, we write the `Augmentation` implementer class such that\n",
    "it has access to the underlying (framework-specific) model. This way, the\n",
    "`Augmentation` implementer can access model gradients internally within its\n",
    "`__call__` method and after construction the implementer can be treated as\n",
    "any other implementer of `Augmentation`.\n",
    "\n",
    "In this example, we consider the image classification domain\n",
    "where input and outputs from the a prediction model are both tensors."
   ]
  },
  {
   "cell_type": "markdown",
   "id": "16439e10",
   "metadata": {
    "lines_to_next_cell": 0
   },
   "source": [
    "## Setup"
   ]
  },
  {
   "cell_type": "code",
   "execution_count": null,
   "id": "00490586",
   "metadata": {},
   "outputs": [],
   "source": [
    "from __future__ import annotations  # permit use of tuple/dict as generic typehints\n",
    "\n",
    "import copy\n",
    "import random\n",
    "from dataclasses import dataclass\n",
    "from typing import Any, Protocol, Sequence, Tuple\n",
    "\n",
    "import numpy as np\n",
    "import torch\n",
    "from torch import nn\n",
    "\n",
    "from maite.protocols import ArrayLike\n",
    "from maite.protocols.image_classification import Augmentation"
   ]
  },
  {
   "cell_type": "markdown",
   "id": "56fa8912",
   "metadata": {
    "lines_to_next_cell": 0
   },
   "source": [
    "## Define a simple protocol for a broad set of attacks\n",
    "This isn't strictly necessary, but helpful for extensibility.\n",
    "\n",
    "Any interface expecting an instance of this protocol class will be\n",
    "able to handle any implementer (structural subtype), so implementations\n",
    "of attacks can be modified/rewritten without modifying classes\n",
    "that are expected to use those objects."
   ]
  },
  {
   "cell_type": "code",
   "execution_count": null,
   "id": "e723c371",
   "metadata": {},
   "outputs": [],
   "source": [
    "class ImageClassifierAttack(Protocol):\n",
    "    \"\"\"\n",
    "    Protocol defining an interface that might be satisfied by an attack on an\n",
    "    image classifier.\n",
    "    \"\"\"\n",
    "\n",
    "    def __call__(\n",
    "        self,\n",
    "        model: torch.nn.Module,\n",
    "        input_batch: torch.Tensor,\n",
    "        target_batch: torch.Tensor,\n",
    "    ) -> torch.Tensor: ...\n",
    "\n",
    "    @property\n",
    "    def name(self) -> str: ..."
   ]
  },
  {
   "cell_type": "markdown",
   "id": "e949b463",
   "metadata": {
    "lines_to_next_cell": 0
   },
   "source": [
    "## Define a simple implementer of above protocol class"
   ]
  },
  {
   "cell_type": "code",
   "execution_count": null,
   "id": "8fe655cd",
   "metadata": {
    "lines_to_next_cell": 2
   },
   "outputs": [],
   "source": [
    "@dataclass\n",
    "class DumbAttack:\n",
    "    \"\"\"\n",
    "    Very basic implementer of above ImageClassifierAttack protocol\n",
    "    \"\"\"\n",
    "\n",
    "    name: str\n",
    "\n",
    "    def __call__(\n",
    "        self,\n",
    "        model: torch.nn.Module,\n",
    "        input_batch: ArrayLike,\n",
    "        target_batch: ArrayLike,\n",
    "    ) -> torch.Tensor:\n",
    "        \"\"\"\n",
    "        Given a torch model, a model input batch, and a model target batch\n",
    "        (i.e. ground truth) calculate an adversarial perturbation that can be\n",
    "        added to the input tensor to form an adversarial input.\n",
    "        \"\"\"\n",
    "\n",
    "        # type-narrow inputs to type tensor\n",
    "        input_batch_tn = torch.as_tensor(input_batch)\n",
    "        input_batch_tn.requires_grad = True\n",
    "\n",
    "        # type-narrow outputs to type tensor\n",
    "        target_batch_tn = torch.as_tensor(target_batch)\n",
    "\n",
    "        preds = model(input_batch_tn)\n",
    "\n",
    "        # calculate some simple loss\n",
    "        loss = torch.sum(\n",
    "            torch.nn.functional.binary_cross_entropy(preds, target_batch_tn)\n",
    "        )\n",
    "        loss.backward()\n",
    "\n",
    "        assert input_batch_tn.grad is not None\n",
    "\n",
    "        return input_batch_tn.grad * 1e-4\n",
    "\n",
    "\n",
    "# TODO: Try to demonstrate a standard approach to implement protocols that permit\n",
    "#       structural subclass checks at that class object level (i.e. using\n",
    "#       \"issubclass(SomeUserClass, SomeProtocol)\" and dont require instantiation.\n",
    "#       (i.e. isinstance(SomeUserClass(...), SomeProtocol). Otherwise, introspection\n",
    "#       and inference tools wont be able to verify protocol compatibility without\n",
    "#       instantiating. This inferrence ability is a huge potential gain."
   ]
  },
  {
   "cell_type": "markdown",
   "id": "3df8d248",
   "metadata": {
    "lines_to_next_cell": 2
   },
   "source": [
    "## Define a \"whitebox augmentation\" class\n",
    "The class will store framework-specific model while implementing MAITE\n",
    "`Augmentation` protocol"
   ]
  },
  {
   "cell_type": "code",
   "execution_count": null,
   "id": "40bf6be0",
   "metadata": {},
   "outputs": [],
   "source": [
    "# Create an Augmentation that takes anything satisfying this ImageClassifierAttack\n",
    "# object in its constructor and uses it within its __call__ method. After it is\n",
    "# constructed, the user can treat it like any other implementer of the Augmentation\n",
    "# protocol.\n",
    "class WhiteboxAugmentation:\n",
    "    \"\"\"\n",
    "    Apply an image classifier attack\n",
    "    \"\"\"\n",
    "\n",
    "    def __init__(self, model: torch.nn.Module, attack: ImageClassifierAttack):\n",
    "        # store torch model as an attribute specific to this augmentation\n",
    "        self.attack = attack\n",
    "        self.model = model\n",
    "\n",
    "    def __call__(\n",
    "        self, datum: tuple[ArrayLike, ArrayLike, Sequence[dict[str, Any]]]\n",
    "    ) -> tuple[torch.Tensor, torch.Tensor, Sequence[dict[str, Any]]]:\n",
    "        # unpack tuple input\n",
    "        input_batch, target_batch, metadata_batch = datum\n",
    "\n",
    "        # type-narrow inputs to type tensor\n",
    "        input_batch_tn = torch.as_tensor(input_batch)\n",
    "\n",
    "        # type-narrow outputs to type tensor\n",
    "        target_batch_tn = torch.as_tensor(target_batch)\n",
    "\n",
    "        attack_perturbation = self.attack(self.model, input_batch_tn, target_batch_tn)\n",
    "        input_batch_aug = input_batch_tn + attack_perturbation\n",
    "\n",
    "        # Modify returned metadata object to record any important\n",
    "        # aspects of this augmentation\n",
    "        metadata_batch_aug = copy.deepcopy(metadata_batch)\n",
    "        for i, datum_metadata in enumerate(metadata_batch_aug):\n",
    "            if \"aug_applied\" not in datum_metadata.keys():\n",
    "                datum_metadata[\"augs_applied\"] = list()\n",
    "\n",
    "                datum_metadata[\"augs_applied\"].append(\n",
    "                    {\n",
    "                        \"name\": self.attack.name,\n",
    "                        \"mean_perturbation\": torch.mean(attack_perturbation[i]).numpy(),\n",
    "                    }\n",
    "                )\n",
    "\n",
    "        return (input_batch_aug, target_batch_tn, metadata_batch_aug)"
   ]
  },
  {
   "cell_type": "markdown",
   "id": "db9de944",
   "metadata": {},
   "source": [
    "## Test the augmentation\n",
    "Create dummy torch module and batch of input/output/metadata"
   ]
  },
  {
   "cell_type": "code",
   "execution_count": null,
   "id": "4fa10840",
   "metadata": {},
   "outputs": [],
   "source": [
    "# make dummy model that takes Nx5 inputs and produces a onehot\n",
    "# vector of pseudoprobabilities\n",
    "BATCH_SIZE = 4\n",
    "H_IMG = 32\n",
    "W_IMG = 32\n",
    "C_IMG = 3\n",
    "N_CLASSES = 5\n",
    "\n",
    "dummy_model = nn.Sequential(\n",
    "    nn.Flatten(), nn.Linear(H_IMG * W_IMG * C_IMG, N_CLASSES), nn.ReLU(), nn.Softmax()\n",
    ")"
   ]
  },
  {
   "cell_type": "code",
   "execution_count": null,
   "id": "1d06e582",
   "metadata": {},
   "outputs": [],
   "source": [
    "# Apply a WhiteboxAugmentation to a batch\n",
    "\n",
    "\n",
    "# create instance of WhiteboxAugmentation class\n",
    "wb_aug: Augmentation = WhiteboxAugmentation(\n",
    "    model=dummy_model, attack=DumbAttack(name=\"silly_attack\")\n",
    ")\n",
    "\n",
    "# create a 'dummy' datum batch\n",
    "datum_batch: Tuple[torch.Tensor, torch.Tensor, Sequence[dict[str, Any]]] = (\n",
    "    torch.rand((BATCH_SIZE, C_IMG, H_IMG, W_IMG)),\n",
    "    torch.eye(BATCH_SIZE, N_CLASSES),\n",
    "    [dict() for _ in range(BATCH_SIZE)],\n",
    ")\n",
    "\n",
    "# apply augmentation\n",
    "datum_batch_aug = wb_aug(datum_batch)"
   ]
  },
  {
   "cell_type": "markdown",
   "id": "358220cb",
   "metadata": {},
   "source": [
    "## Print result of augmentation"
   ]
  },
  {
   "cell_type": "code",
   "execution_count": null,
   "id": "df1a4cd4",
   "metadata": {},
   "outputs": [],
   "source": [
    "# unpack datums\n",
    "# TODO: consider whether tuple of iterables or iterable of tuples is more convenient\n",
    "#       as a batch format. Tuple of iterables seems to require below unpacking\n",
    "\n",
    "model_input_batch_aug, model_output_batch_aug, md_batch_aug = datum_batch_aug\n",
    "model_input_batch, model_output_batch, md_batch = datum_batch\n",
    "\n",
    "print(\"Results of augmentation (by datum)\")\n",
    "for model_input_aug, model_output_aug, md_aug, model_input, model_output, md in zip(\n",
    "    model_input_batch_aug,\n",
    "    model_output_batch_aug,\n",
    "    md_batch_aug,\n",
    "    model_input_batch,\n",
    "    model_output_batch,\n",
    "    md_batch,\n",
    "):\n",
    "    print(f\"model input:\\n {model_input}\")\n",
    "    print(f\"model input (augmented):\\n {model_input_aug}\")\n",
    "    print(f\"datum metadata:\\n {md_aug}\")\n",
    "    print(\"\\n\")"
   ]
  }
 ],
 "metadata": {
  "jupytext": {
   "cell_metadata_filter": "-all",
   "main_language": "python",
   "notebook_metadata_filter": "-all"
  }
 },
 "nbformat": 4,
 "nbformat_minor": 5
}
